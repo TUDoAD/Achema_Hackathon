{
 "cells": [
  {
   "cell_type": "markdown",
   "id": "7d02c593",
   "metadata": {
    "id": "preceding-activity"
   },
   "source": [
    "## Load packages"
   ]
  },
  {
   "cell_type": "code",
   "execution_count": 1,
   "id": "4ad051d8",
   "metadata": {
    "executionInfo": {
     "elapsed": 526,
     "status": "ok",
     "timestamp": 1619897892229,
     "user": {
      "displayName": "Iwan Kornijez",
      "photoUrl": "",
      "userId": "13429310755664470208"
     },
     "user_tz": -120
    },
    "id": "clear-vegetation"
   },
   "outputs": [],
   "source": [
    "# Import required packages\n",
    "import random\n",
    "import numpy as np\n",
    "import pandas as pd\n",
    "import matplotlib.pyplot as plt\n",
    "import os\n",
    "import cv2\n",
    "import time\n",
    "import sys\n",
    "import json\n",
    "from sklearn.metrics import roc_curve, roc_auc_score, confusion_matrix, accuracy_score\n",
    "from PIL import Image\n"
   ]
  },
  {
   "cell_type": "code",
   "execution_count": 2,
   "id": "f3157002",
   "metadata": {
    "id": "native-offense"
   },
   "outputs": [
    {
     "name": "stdout",
     "output_type": "stream",
     "text": [
      "Defaulting to user installation because normal site-packages is not writeable\n",
      "Requirement already satisfied: tensorflow in /usr/local/lib/python3.7/dist-packages (2.4.1)\n",
      "Requirement already satisfied: grpcio~=1.32.0 in /usr/local/lib/python3.7/dist-packages (from tensorflow) (1.32.0)\n",
      "Requirement already satisfied: wheel~=0.35 in /usr/local/lib/python3.7/dist-packages (from tensorflow) (0.36.2)\n",
      "Requirement already satisfied: opt-einsum~=3.3.0 in /usr/local/lib/python3.7/dist-packages (from tensorflow) (3.3.0)\n",
      "Requirement already satisfied: tensorflow-estimator<2.5.0,>=2.4.0 in /usr/local/lib/python3.7/dist-packages (from tensorflow) (2.4.0)\n",
      "Requirement already satisfied: flatbuffers~=1.12.0 in /usr/local/lib/python3.7/dist-packages (from tensorflow) (1.12)\n",
      "Requirement already satisfied: h5py~=2.10.0 in /usr/local/lib/python3.7/dist-packages (from tensorflow) (2.10.0)\n",
      "Requirement already satisfied: protobuf>=3.9.2 in /usr/local/lib/python3.7/dist-packages (from tensorflow) (3.15.8)\n",
      "Requirement already satisfied: typing-extensions~=3.7.4 in /usr/local/lib/python3.7/dist-packages (from tensorflow) (3.7.4.3)\n",
      "Requirement already satisfied: wrapt~=1.12.1 in /usr/local/lib/python3.7/dist-packages (from tensorflow) (1.12.1)\n",
      "Requirement already satisfied: numpy~=1.19.2 in /usr/local/lib/python3.7/dist-packages (from tensorflow) (1.19.5)\n",
      "Requirement already satisfied: google-pasta~=0.2 in /usr/local/lib/python3.7/dist-packages (from tensorflow) (0.2.0)\n",
      "Requirement already satisfied: keras-preprocessing~=1.1.2 in /usr/local/lib/python3.7/dist-packages (from tensorflow) (1.1.2)\n",
      "Requirement already satisfied: gast==0.3.3 in /usr/local/lib/python3.7/dist-packages (from tensorflow) (0.3.3)\n",
      "Requirement already satisfied: astunparse~=1.6.3 in /usr/local/lib/python3.7/dist-packages (from tensorflow) (1.6.3)\n",
      "Requirement already satisfied: absl-py~=0.10 in /usr/local/lib/python3.7/dist-packages (from tensorflow) (0.12.0)\n",
      "Requirement already satisfied: termcolor~=1.1.0 in /usr/local/lib/python3.7/dist-packages (from tensorflow) (1.1.0)\n",
      "Requirement already satisfied: tensorboard~=2.4 in /usr/local/lib/python3.7/dist-packages (from tensorflow) (2.4.1)\n",
      "Requirement already satisfied: six~=1.15.0 in /usr/local/lib/python3.7/dist-packages (from tensorflow) (1.15.0)\n",
      "Requirement already satisfied: markdown>=2.6.8 in /usr/local/lib/python3.7/dist-packages (from tensorboard~=2.4->tensorflow) (3.3.4)\n",
      "Requirement already satisfied: setuptools>=41.0.0 in /usr/local/lib/python3.7/dist-packages (from tensorboard~=2.4->tensorflow) (54.2.0)\n",
      "Requirement already satisfied: requests<3,>=2.21.0 in /usr/local/lib/python3.7/dist-packages (from tensorboard~=2.4->tensorflow) (2.25.1)\n",
      "Requirement already satisfied: google-auth-oauthlib<0.5,>=0.4.1 in /usr/local/lib/python3.7/dist-packages (from tensorboard~=2.4->tensorflow) (0.4.4)\n",
      "Requirement already satisfied: tensorboard-plugin-wit>=1.6.0 in /usr/local/lib/python3.7/dist-packages (from tensorboard~=2.4->tensorflow) (1.8.0)\n",
      "Requirement already satisfied: google-auth<2,>=1.6.3 in /usr/local/lib/python3.7/dist-packages (from tensorboard~=2.4->tensorflow) (1.28.1)\n",
      "Requirement already satisfied: werkzeug>=0.11.15 in /usr/local/lib/python3.7/dist-packages (from tensorboard~=2.4->tensorflow) (1.0.1)\n",
      "Requirement already satisfied: rsa<5,>=3.1.4 in /usr/local/lib/python3.7/dist-packages (from google-auth<2,>=1.6.3->tensorboard~=2.4->tensorflow) (4.7.2)\n",
      "Requirement already satisfied: cachetools<5.0,>=2.0.0 in /usr/local/lib/python3.7/dist-packages (from google-auth<2,>=1.6.3->tensorboard~=2.4->tensorflow) (4.2.1)\n",
      "Requirement already satisfied: pyasn1-modules>=0.2.1 in /usr/local/lib/python3.7/dist-packages (from google-auth<2,>=1.6.3->tensorboard~=2.4->tensorflow) (0.2.8)\n",
      "Requirement already satisfied: requests-oauthlib>=0.7.0 in /usr/local/lib/python3.7/dist-packages (from google-auth-oauthlib<0.5,>=0.4.1->tensorboard~=2.4->tensorflow) (1.3.0)\n",
      "Requirement already satisfied: importlib-metadata in /usr/local/lib/python3.7/dist-packages (from markdown>=2.6.8->tensorboard~=2.4->tensorflow) (3.10.0)\n",
      "Requirement already satisfied: pyasn1<0.5.0,>=0.4.6 in /usr/local/lib/python3.7/dist-packages (from pyasn1-modules>=0.2.1->google-auth<2,>=1.6.3->tensorboard~=2.4->tensorflow) (0.4.8)\n",
      "Requirement already satisfied: certifi>=2017.4.17 in /usr/local/lib/python3.7/dist-packages (from requests<3,>=2.21.0->tensorboard~=2.4->tensorflow) (2020.12.5)\n",
      "Requirement already satisfied: idna<3,>=2.5 in /usr/local/lib/python3.7/dist-packages (from requests<3,>=2.21.0->tensorboard~=2.4->tensorflow) (2.10)\n",
      "Requirement already satisfied: chardet<5,>=3.0.2 in /usr/local/lib/python3.7/dist-packages (from requests<3,>=2.21.0->tensorboard~=2.4->tensorflow) (4.0.0)\n",
      "Requirement already satisfied: urllib3<1.27,>=1.21.1 in /usr/local/lib/python3.7/dist-packages (from requests<3,>=2.21.0->tensorboard~=2.4->tensorflow) (1.26.4)\n",
      "Requirement already satisfied: oauthlib>=3.0.0 in /usr/local/lib/python3.7/dist-packages (from requests-oauthlib>=0.7.0->google-auth-oauthlib<0.5,>=0.4.1->tensorboard~=2.4->tensorflow) (3.1.0)\n",
      "Requirement already satisfied: zipp>=0.5 in /usr/local/lib/python3.7/dist-packages (from importlib-metadata->markdown>=2.6.8->tensorboard~=2.4->tensorflow) (3.4.1)\n",
      "\u001b[33mWARNING: You are using pip version 21.0.1; however, version 21.1.1 is available.\n",
      "You should consider upgrading via the '/usr/bin/python3 -m pip install --upgrade pip' command.\u001b[0m\n",
      "Defaulting to user installation because normal site-packages is not writeable\n",
      "Requirement already satisfied: nbresuse in /home/jovyan/.local/lib/python3.7/site-packages (0.4.0)\n",
      "Requirement already satisfied: psutil>=5.6.0 in /home/jovyan/.local/lib/python3.7/site-packages (from nbresuse) (5.8.0)\n",
      "Requirement already satisfied: prometheus-client in /usr/local/lib/python3.7/dist-packages (from nbresuse) (0.10.0)\n",
      "Requirement already satisfied: notebook>=5.6.0 in /usr/local/lib/python3.7/dist-packages (from nbresuse) (6.3.0)\n",
      "Requirement already satisfied: ipython-genutils in /usr/local/lib/python3.7/dist-packages (from notebook>=5.6.0->nbresuse) (0.2.0)\n",
      "Requirement already satisfied: nbconvert in /usr/local/lib/python3.7/dist-packages (from notebook>=5.6.0->nbresuse) (6.0.7)\n",
      "Requirement already satisfied: Send2Trash>=1.5.0 in /usr/local/lib/python3.7/dist-packages (from notebook>=5.6.0->nbresuse) (1.5.0)\n",
      "Requirement already satisfied: pyzmq>=17 in /usr/local/lib/python3.7/dist-packages (from notebook>=5.6.0->nbresuse) (22.0.3)\n",
      "Requirement already satisfied: ipykernel in /usr/local/lib/python3.7/dist-packages (from notebook>=5.6.0->nbresuse) (5.5.3)\n",
      "Requirement already satisfied: argon2-cffi in /usr/local/lib/python3.7/dist-packages (from notebook>=5.6.0->nbresuse) (20.1.0)\n",
      "Requirement already satisfied: jupyter-client>=5.3.4 in /usr/local/lib/python3.7/dist-packages (from notebook>=5.6.0->nbresuse) (6.1.12)\n",
      "Requirement already satisfied: terminado>=0.8.3 in /usr/local/lib/python3.7/dist-packages (from notebook>=5.6.0->nbresuse) (0.9.4)\n",
      "Requirement already satisfied: jupyter-core>=4.6.1 in /usr/local/lib/python3.7/dist-packages (from notebook>=5.6.0->nbresuse) (4.7.1)\n",
      "Requirement already satisfied: traitlets>=4.2.1 in /usr/local/lib/python3.7/dist-packages (from notebook>=5.6.0->nbresuse) (5.0.5)\n",
      "Requirement already satisfied: nbformat in /usr/local/lib/python3.7/dist-packages (from notebook>=5.6.0->nbresuse) (5.1.3)\n",
      "Requirement already satisfied: tornado>=6.1 in /usr/local/lib/python3.7/dist-packages (from notebook>=5.6.0->nbresuse) (6.1)\n",
      "Requirement already satisfied: jinja2 in /usr/local/lib/python3.7/dist-packages (from notebook>=5.6.0->nbresuse) (2.11.3)\n",
      "Requirement already satisfied: python-dateutil>=2.1 in /usr/local/lib/python3.7/dist-packages (from jupyter-client>=5.3.4->notebook>=5.6.0->nbresuse) (2.8.1)\n",
      "Requirement already satisfied: six>=1.5 in /usr/local/lib/python3.7/dist-packages (from python-dateutil>=2.1->jupyter-client>=5.3.4->notebook>=5.6.0->nbresuse) (1.15.0)\n",
      "Requirement already satisfied: ptyprocess in /usr/local/lib/python3.7/dist-packages (from terminado>=0.8.3->notebook>=5.6.0->nbresuse) (0.7.0)\n",
      "Requirement already satisfied: cffi>=1.0.0 in /usr/local/lib/python3.7/dist-packages (from argon2-cffi->notebook>=5.6.0->nbresuse) (1.14.5)\n",
      "Requirement already satisfied: pycparser in /usr/local/lib/python3.7/dist-packages (from cffi>=1.0.0->argon2-cffi->notebook>=5.6.0->nbresuse) (2.20)\n",
      "Requirement already satisfied: ipython>=5.0.0 in /usr/local/lib/python3.7/dist-packages (from ipykernel->notebook>=5.6.0->nbresuse) (7.22.0)\n",
      "Requirement already satisfied: pickleshare in /usr/local/lib/python3.7/dist-packages (from ipython>=5.0.0->ipykernel->notebook>=5.6.0->nbresuse) (0.7.5)\n",
      "Requirement already satisfied: pygments in /usr/local/lib/python3.7/dist-packages (from ipython>=5.0.0->ipykernel->notebook>=5.6.0->nbresuse) (2.8.1)\n",
      "Requirement already satisfied: decorator in /usr/local/lib/python3.7/dist-packages (from ipython>=5.0.0->ipykernel->notebook>=5.6.0->nbresuse) (4.4.2)\n",
      "Requirement already satisfied: jedi>=0.16 in /usr/local/lib/python3.7/dist-packages (from ipython>=5.0.0->ipykernel->notebook>=5.6.0->nbresuse) (0.18.0)\n",
      "Requirement already satisfied: backcall in /usr/local/lib/python3.7/dist-packages (from ipython>=5.0.0->ipykernel->notebook>=5.6.0->nbresuse) (0.2.0)\n",
      "Requirement already satisfied: pexpect>4.3 in /usr/local/lib/python3.7/dist-packages (from ipython>=5.0.0->ipykernel->notebook>=5.6.0->nbresuse) (4.8.0)\n",
      "Requirement already satisfied: prompt-toolkit!=3.0.0,!=3.0.1,<3.1.0,>=2.0.0 in /usr/local/lib/python3.7/dist-packages (from ipython>=5.0.0->ipykernel->notebook>=5.6.0->nbresuse) (3.0.18)\n",
      "Requirement already satisfied: setuptools>=18.5 in /usr/local/lib/python3.7/dist-packages (from ipython>=5.0.0->ipykernel->notebook>=5.6.0->nbresuse) (54.2.0)\n",
      "Requirement already satisfied: parso<0.9.0,>=0.8.0 in /usr/local/lib/python3.7/dist-packages (from jedi>=0.16->ipython>=5.0.0->ipykernel->notebook>=5.6.0->nbresuse) (0.8.2)\n",
      "Requirement already satisfied: wcwidth in /usr/local/lib/python3.7/dist-packages (from prompt-toolkit!=3.0.0,!=3.0.1,<3.1.0,>=2.0.0->ipython>=5.0.0->ipykernel->notebook>=5.6.0->nbresuse) (0.2.5)\n",
      "Requirement already satisfied: MarkupSafe>=0.23 in /usr/local/lib/python3.7/dist-packages (from jinja2->notebook>=5.6.0->nbresuse) (1.1.1)\n",
      "Requirement already satisfied: entrypoints>=0.2.2 in /usr/local/lib/python3.7/dist-packages (from nbconvert->notebook>=5.6.0->nbresuse) (0.3)\n",
      "Requirement already satisfied: defusedxml in /usr/local/lib/python3.7/dist-packages (from nbconvert->notebook>=5.6.0->nbresuse) (0.7.1)\n",
      "Requirement already satisfied: mistune<2,>=0.8.1 in /usr/local/lib/python3.7/dist-packages (from nbconvert->notebook>=5.6.0->nbresuse) (0.8.4)\n",
      "Requirement already satisfied: pandocfilters>=1.4.1 in /usr/local/lib/python3.7/dist-packages (from nbconvert->notebook>=5.6.0->nbresuse) (1.4.3)\n",
      "Requirement already satisfied: bleach in /usr/local/lib/python3.7/dist-packages (from nbconvert->notebook>=5.6.0->nbresuse) (3.3.0)\n",
      "Requirement already satisfied: nbclient<0.6.0,>=0.5.0 in /usr/local/lib/python3.7/dist-packages (from nbconvert->notebook>=5.6.0->nbresuse) (0.5.3)\n",
      "Requirement already satisfied: testpath in /usr/local/lib/python3.7/dist-packages (from nbconvert->notebook>=5.6.0->nbresuse) (0.4.4)\n",
      "Requirement already satisfied: jupyterlab-pygments in /usr/local/lib/python3.7/dist-packages (from nbconvert->notebook>=5.6.0->nbresuse) (0.1.2)\n",
      "Requirement already satisfied: async-generator in /usr/local/lib/python3.7/dist-packages (from nbclient<0.6.0,>=0.5.0->nbconvert->notebook>=5.6.0->nbresuse) (1.10)\n",
      "Requirement already satisfied: nest-asyncio in /usr/local/lib/python3.7/dist-packages (from nbclient<0.6.0,>=0.5.0->nbconvert->notebook>=5.6.0->nbresuse) (1.5.1)\n",
      "Requirement already satisfied: jsonschema!=2.5.0,>=2.4 in /usr/local/lib/python3.7/dist-packages (from nbformat->notebook>=5.6.0->nbresuse) (3.2.0)\n",
      "Requirement already satisfied: pyrsistent>=0.14.0 in /usr/local/lib/python3.7/dist-packages (from jsonschema!=2.5.0,>=2.4->nbformat->notebook>=5.6.0->nbresuse) (0.17.3)\n",
      "Requirement already satisfied: attrs>=17.4.0 in /usr/local/lib/python3.7/dist-packages (from jsonschema!=2.5.0,>=2.4->nbformat->notebook>=5.6.0->nbresuse) (20.3.0)\n",
      "Requirement already satisfied: importlib-metadata in /usr/local/lib/python3.7/dist-packages (from jsonschema!=2.5.0,>=2.4->nbformat->notebook>=5.6.0->nbresuse) (3.10.0)\n",
      "Requirement already satisfied: webencodings in /usr/local/lib/python3.7/dist-packages (from bleach->nbconvert->notebook>=5.6.0->nbresuse) (0.5.1)\n",
      "Requirement already satisfied: packaging in /usr/local/lib/python3.7/dist-packages (from bleach->nbconvert->notebook>=5.6.0->nbresuse) (20.9)\n",
      "Requirement already satisfied: typing-extensions>=3.6.4 in /usr/local/lib/python3.7/dist-packages (from importlib-metadata->jsonschema!=2.5.0,>=2.4->nbformat->notebook>=5.6.0->nbresuse) (3.7.4.3)\n",
      "Requirement already satisfied: zipp>=0.5 in /usr/local/lib/python3.7/dist-packages (from importlib-metadata->jsonschema!=2.5.0,>=2.4->nbformat->notebook>=5.6.0->nbresuse) (3.4.1)\n",
      "Requirement already satisfied: pyparsing>=2.0.2 in /usr/local/lib/python3.7/dist-packages (from packaging->bleach->nbconvert->notebook>=5.6.0->nbresuse) (2.4.7)\n",
      "\u001b[33mWARNING: You are using pip version 21.0.1; however, version 21.1.1 is available.\n",
      "You should consider upgrading via the '/usr/bin/python3 -m pip install --upgrade pip' command.\u001b[0m\n"
     ]
    }
   ],
   "source": [
    "# Use the following command to install additional packages\n",
    "!pip install tensorflow\n",
    "!pip install nbresuse\n"
   ]
  },
  {
   "cell_type": "code",
   "execution_count": 3,
   "id": "3bb794a4",
   "metadata": {
    "executionInfo": {
     "elapsed": 2597,
     "status": "ok",
     "timestamp": 1619897902592,
     "user": {
      "displayName": "Iwan Kornijez",
      "photoUrl": "",
      "userId": "13429310755664470208"
     },
     "user_tz": -120
    },
    "id": "positive-premises"
   },
   "outputs": [],
   "source": [
    "# Load additionaly installed packages\n",
    "import tensorflow as tf\n",
    "from joblib import load\n",
    "from sklearn.svm import SVC\n"
   ]
  },
  {
   "cell_type": "markdown",
   "id": "53a69323",
   "metadata": {
    "id": "ordered-injury"
   },
   "source": [
    "## Load data"
   ]
  },
  {
   "cell_type": "code",
   "execution_count": 4,
   "id": "529cd2ce",
   "metadata": {
    "id": "relative-dimension"
   },
   "outputs": [],
   "source": [
    "# Create file path to the data\n",
    "val_dir = './data/ValidationData'\n",
    "\n",
    "# Create lists containing all image paths\n",
    "val_normal = [os.path.join(val_dir, 'bad/{}').format(i) for i in os.listdir(os.path.join(val_dir, 'bad'))]\n",
    "val_fluten = [os.path.join(val_dir, 'good/{}').format(i) for i in os.listdir(os.path.join(val_dir, 'good'))]\n",
    "val_images = val_normal + val_fluten\n",
    "np.random.shuffle(val_images)"
   ]
  },
  {
   "cell_type": "code",
   "execution_count": 5,
   "id": "674c03c0",
   "metadata": {
    "id": "recognized-society"
   },
   "outputs": [],
   "source": [
    "# Warning: Due to the limited memory size, not all images can be loaded at once.\n",
    "# We select only 100 images\n",
    "val_images = val_images[0:100]"
   ]
  },
  {
   "cell_type": "code",
   "execution_count": 6,
   "id": "aa40471f",
   "metadata": {
    "id": "studied-investigation"
   },
   "outputs": [],
   "source": [
    "# Create empty list which will hold the images\n",
    "X = []\n",
    "\n",
    "# Create empty list which will hold the labels\n",
    "y_true = []\n",
    "\n",
    "# Loop over all image paths to read each image and their corresponding true label\n",
    "for image in val_images:\n",
    "    # Ignore .ipynb-checkpoint files\n",
    "    if 'ipynb' in image:\n",
    "        continue\n",
    "        \n",
    "    # Read the image\n",
    "    X.append(cv2.imread(image,1))\n",
    "    \n",
    "    # Load the true label\n",
    "    if 'fluten' in image:\n",
    "        y_true.append(1)\n",
    "    elif 'normal' in image:\n",
    "        y_true.append(0)"
   ]
  },
  {
   "cell_type": "markdown",
   "id": "45fae90d",
   "metadata": {
    "id": "sophisticated-suspension"
   },
   "source": [
    "## Preprocessing"
   ]
  },
  {
   "cell_type": "code",
   "execution_count": 7,
   "id": "5b84653c",
   "metadata": {
    "executionInfo": {
     "elapsed": 26843,
     "status": "ok",
     "timestamp": 1619903269585,
     "user": {
      "displayName": "Iwan Kornijez",
      "photoUrl": "",
      "userId": "13429310755664470208"
     },
     "user_tz": -120
    },
    "id": "impressive-headquarters"
   },
   "outputs": [],
   "source": [
    "# Add your Preprocessing here\n",
    "\n",
    "# Functions\n",
    "def normalize_imgs(imgs):\n",
    "    \"\"\"\n",
    "    Normalizing image data\n",
    "    :param imgs: Raw Image data\n",
    "    :return:  Normalized image data\n",
    "    \"\"\"\n",
    "\n",
    "\n",
    "    imgs = (imgs - np.min(np.min(imgs, axis=2), axis=1)[:, np.newaxis, np.newaxis]) / (np.max(np.max(imgs, axis=2),\n",
    "                                                                                              axis=1) - np.min(\n",
    "        np.min(imgs, axis=2), axis=1))[:, np.newaxis, np.newaxis]\n",
    "    return imgs\n",
    "\n",
    "\n",
    "def extract_features(image_data):\n",
    "    \"\"\"\n",
    "    Extracting features from normalized image data.\n",
    "    :param image_data: Normalized image data\n",
    "    :return: Features for the SVM\n",
    "    \"\"\"\n",
    "\n",
    "    # Max/Min Pooling for undersampling image data\n",
    "    pooling = tf.keras.layers.MaxPool2D(pool_size=(50, 50), strides=50, padding='valid')\n",
    "\n",
    "    # Feature 1: Local Contrast Average\n",
    "    tf_image_data = tf.convert_to_tensor(image_data[:, 200:500, 200:1000])\n",
    "    max = pooling(tf.expand_dims(tf_image_data, axis=-1))\n",
    "    min = -pooling(tf.expand_dims(-tf_image_data, axis=-1))\n",
    "    dif = max - min\n",
    "\n",
    "    f1 = tf.math.reduce_mean(dif, axis=[1, 2])\n",
    "    f1 = f1.numpy()\n",
    "\n",
    "    del max, min, tf_image_data, dif\n",
    "\n",
    "    # Feature 2: Bottom Contrast\n",
    "    tf_image_data = tf.convert_to_tensor(image_data[:, 1400:1750, 200:1000])\n",
    "\n",
    "    max = pooling(tf.expand_dims(tf_image_data, axis=-1))\n",
    "    min = -pooling(tf.expand_dims(-tf_image_data, axis=-1))\n",
    "    dif = max - min\n",
    "\n",
    "    f2 = tf.math.reduce_mean(dif, axis=[1, 2])\n",
    "    f2 = f2.numpy()\n",
    "\n",
    "    del max, min, tf_image_data, dif\n",
    "\n",
    "    return f1, f2\n",
    "\n",
    "\n",
    "# resizing image data to uniform size and turn it into greyscale\n",
    "X = [cv2.resize(cv2.cvtColor(el, cv2.COLOR_BGR2GRAY), (1200, 1850)) for el in X]\n",
    "\n",
    "# convert image data to Numpy arrays\n",
    "X = np.asarray(X)\n",
    "\n",
    "y_true = np.asarray(y_true)\n",
    "\n",
    "# batchwise feature extraction\n",
    "X = np.array_split(X, 5)\n",
    "\n",
    "f1 = np.empty(0)\n",
    "f2 = np.empty(0)\n",
    "\n",
    "for batch in X:\n",
    "    # Normalize Images\n",
    "    batch = normalize_imgs(batch)\n",
    "    # Extract Features\n",
    "    _, __ = extract_features(batch)\n",
    "    f1 = np.append(f1, _)\n",
    "    f2 = np.append(f2, __)\n",
    "\n",
    "X = np.concatenate((f1[:, np.newaxis], f2[:, np.newaxis]), axis=1)"
   ]
  },
  {
   "cell_type": "markdown",
   "id": "f908d996",
   "metadata": {
    "id": "accessory-launch"
   },
   "source": [
    "## Load model"
   ]
  },
  {
   "cell_type": "code",
   "execution_count": 8,
   "id": "4305b061",
   "metadata": {
    "executionInfo": {
     "elapsed": 481,
     "status": "ok",
     "timestamp": 1619903321396,
     "user": {
      "displayName": "Iwan Kornijez",
      "photoUrl": "",
      "userId": "13429310755664470208"
     },
     "user_tz": -120
    },
    "id": "integral-huntington"
   },
   "outputs": [],
   "source": [
    "# Load your trained model here\n",
    "clf = load(\"./svm_final\")"
   ]
  },
  {
   "cell_type": "markdown",
   "id": "75b72c14",
   "metadata": {
    "id": "amber-helena"
   },
   "source": [
    "## Predicitions"
   ]
  },
  {
   "cell_type": "code",
   "execution_count": 9,
   "id": "e81eceb7",
   "metadata": {
    "colab": {
     "base_uri": "https://localhost:8080/"
    },
    "executionInfo": {
     "elapsed": 562,
     "status": "ok",
     "timestamp": 1619903336174,
     "user": {
      "displayName": "Iwan Kornijez",
      "photoUrl": "",
      "userId": "13429310755664470208"
     },
     "user_tz": -120
    },
    "id": "round-shoot",
    "outputId": "186dc596-d2b7-44e2-bffd-981224245862"
   },
   "outputs": [
    {
     "name": "stdout",
     "output_type": "stream",
     "text": [
      "--- 0.05 seconds ---\n"
     ]
    }
   ],
   "source": [
    "# Start the timer to measure the computation time needed for inference (please do not modify the following line)\n",
    "start_time = time.time()\n",
    "\n",
    "# Use your loaded model to make a prediction of the label of each image\n",
    "y_pred_probs = clf.predict_proba(X)[:,1]\n",
    "\n",
    "# End timer (please do not modify the following line)\n",
    "comp_time = round((time.time() - start_time),3)\n",
    "print(\"--- %s seconds ---\" % comp_time)\n",
    "\n",
    "# Transform probabilities to labels\n",
    "# Since we are using a SVM y_pred = clf.predict(X) would be more accurate\n",
    "# but a treshold based model was required\n",
    "\n",
    "y_pred = np.where(y_pred_probs>= 0.5,1,0)"
   ]
  },
  {
   "cell_type": "markdown",
   "id": "6fd178cf",
   "metadata": {
    "id": "isolated-ethernet"
   },
   "source": [
    "## Evaluation"
   ]
  },
  {
   "cell_type": "markdown",
   "id": "0290c96a",
   "metadata": {
    "id": "suburban-convention"
   },
   "source": [
    "### The following lines should not be modified"
   ]
  },
  {
   "cell_type": "code",
   "execution_count": 10,
   "id": "074f23ee",
   "metadata": {
    "colab": {
     "base_uri": "https://localhost:8080/"
    },
    "executionInfo": {
     "elapsed": 475,
     "status": "ok",
     "timestamp": 1619903341653,
     "user": {
      "displayName": "Iwan Kornijez",
      "photoUrl": "",
      "userId": "13429310755664470208"
     },
     "user_tz": -120
    },
    "id": "sudden-compatibility",
    "outputId": "33dc820a-5d83-4617-e1f6-04c03c7719e2"
   },
   "outputs": [
    {
     "name": "stdout",
     "output_type": "stream",
     "text": [
      "              Pred: Fluten  Pred: Normal\n",
      "True: Fluten            56             0\n",
      "True: Normal             0            44\n"
     ]
    }
   ],
   "source": [
    "# Compute the confusion matrix\n",
    "cfmtx = pd.DataFrame(\n",
    "    confusion_matrix(y_true, y_pred), \n",
    "    index=['True: Fluten', 'True: Normal'], \n",
    "    columns=['Pred: Fluten', 'Pred: Normal']\n",
    ")\n",
    "print(cfmtx)"
   ]
  },
  {
   "cell_type": "code",
   "execution_count": 11,
   "id": "ac2afa2f",
   "metadata": {
    "colab": {
     "base_uri": "https://localhost:8080/"
    },
    "executionInfo": {
     "elapsed": 501,
     "status": "ok",
     "timestamp": 1619903347803,
     "user": {
      "displayName": "Iwan Kornijez",
      "photoUrl": "",
      "userId": "13429310755664470208"
     },
     "user_tz": -120
    },
    "id": "soviet-bobby",
    "outputId": "d6e59800-9184-409f-fc6f-2862a3fc0445"
   },
   "outputs": [
    {
     "name": "stdout",
     "output_type": "stream",
     "text": [
      "Error rate= 0.000\n"
     ]
    }
   ],
   "source": [
    "# Compute the error rate\n",
    "accuracy = accuracy_score(y_true, y_pred)\n",
    "print('Error rate= %.3f' % (1-accuracy))"
   ]
  },
  {
   "cell_type": "code",
   "execution_count": 12,
   "id": "e236a763",
   "metadata": {
    "colab": {
     "base_uri": "https://localhost:8080/"
    },
    "executionInfo": {
     "elapsed": 682,
     "status": "ok",
     "timestamp": 1619903349385,
     "user": {
      "displayName": "Iwan Kornijez",
      "photoUrl": "",
      "userId": "13429310755664470208"
     },
     "user_tz": -120
    },
    "id": "national-thought",
    "outputId": "fe6570ae-7144-4925-e142-d99b74f254ea"
   },
   "outputs": [
    {
     "name": "stdout",
     "output_type": "stream",
     "text": [
      "ROC AUC = 1.000\n"
     ]
    }
   ],
   "source": [
    "# Compute the ROC AUC\n",
    "roc_auc = roc_auc_score(y_true, y_pred_probs)\n",
    "print('ROC AUC = %.3f' % (roc_auc))"
   ]
  },
  {
   "cell_type": "code",
   "execution_count": 13,
   "id": "3a057839",
   "metadata": {
    "colab": {
     "base_uri": "https://localhost:8080/",
     "height": 279
    },
    "executionInfo": {
     "elapsed": 734,
     "status": "ok",
     "timestamp": 1619903351254,
     "user": {
      "displayName": "Iwan Kornijez",
      "photoUrl": "",
      "userId": "13429310755664470208"
     },
     "user_tz": -120
    },
    "id": "conventional-wagner",
    "outputId": "55e16e2e-4c96-4891-a333-617865aba2af"
   },
   "outputs": [
    {
     "data": {
      "image/png": "[encoded data removed]",
      "text/plain": [
       "<Figure size 432x288 with 1 Axes>"
      ]
     },
     "metadata": {
      "needs_background": "light"
     },
     "output_type": "display_data"
    }
   ],
   "source": [
    "# Calculate ROC curve\n",
    "lr_fpr, lr_tpr, _ = roc_curve(y_true, y_pred_probs)\n",
    "# Plot the ROC curve for the model\n",
    "plt.plot(lr_fpr, lr_tpr, marker='.')\n",
    "# Axis labels\n",
    "plt.xlabel('False Positive Rate')\n",
    "plt.ylabel('True Positive Rate')\n",
    "# Show the plot\n",
    "plt.show()"
   ]
  },
  {
   "cell_type": "markdown",
   "id": "4f6700c0",
   "metadata": {
    "id": "champion-ireland"
   },
   "source": [
    "## Save results"
   ]
  },
  {
   "cell_type": "code",
   "execution_count": 14,
   "id": "280bad48",
   "metadata": {
    "id": "internal-interference"
   },
   "outputs": [],
   "source": [
    "# results = pd.DataFrame({'Image':val_images,'Label':y_pred})"
   ]
  },
  {
   "cell_type": "code",
   "execution_count": 15,
   "id": "446edc6a",
   "metadata": {
    "id": "educational-suicide"
   },
   "outputs": [],
   "source": [
    "res_dict = {}\n",
    "res_dict['ER'] = 1-round(accuracy,3)\n",
    "res_dict['ROC'] = roc_auc\n",
    "res_dict['FP'] = int(cfmtx['Pred: Fluten'].iloc[1])\n",
    "res_dict['FN'] = int(cfmtx['Pred: Normal'].iloc[0])\n",
    "res_dict['TIME'] = int(comp_time)\n",
    "\n",
    "with open('results_metrics.json', 'w') as fp:\n",
    "    json.dump(res_dict, fp)"
   ]
  },
  {
   "cell_type": "code",
   "execution_count": null,
   "id": "e11604b9",
   "metadata": {
    "id": "talented-industry"
   },
   "outputs": [],
   "source": []
  }
 ],
 "metadata": {
  "colab": {
   "collapsed_sections": [],
   "name": "submission.ipynb",
   "provenance": []
  },
  "kernelspec": {
   "display_name": "Python 3",
   "language": "python",
   "name": "python3"
  },
  "language_info": {
   "codemirror_mode": {
    "name": "ipython",
    "version": 3
   },
   "file_extension": ".py",
   "mimetype": "text/x-python",
   "name": "python",
   "nbconvert_exporter": "python",
   "pygments_lexer": "ipython3",
   "version": "3.7.3"
  }
 },
 "nbformat": 4,
 "nbformat_minor": 5
}
